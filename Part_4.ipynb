{
  "nbformat": 4,
  "nbformat_minor": 0,
  "metadata": {
    "colab": {
      "provenance": []
    },
    "kernelspec": {
      "name": "python3",
      "display_name": "Python 3"
    },
    "language_info": {
      "name": "python"
    }
  },
  "cells": [
    {
      "cell_type": "code",
      "execution_count": 1,
      "metadata": {
        "id": "v8b8FQpgra-v"
      },
      "outputs": [],
      "source": [
        "import numpy as np\n",
        "from random import uniform\n",
        "from timeit import timeit\n",
        "import numexpr as ne\n",
        "\n",
        "class Particle:\n",
        "    def __init__(self, x, y, velocidad_angular):\n",
        "        self.x = x\n",
        "        self.y = y\n",
        "        self.velocidad_angular = velocidad_angular\n",
        "\n",
        "class ParticleSimulator:\n",
        "\n",
        "    def __init__(self, particles):\n",
        "        self.particles = particles\n",
        "\n",
        "    def evolve_python(self, dt):\n",
        "        timestep = 0.00001\n",
        "        nsteps = int(dt / timestep)\n",
        "        for i in range(nsteps):\n",
        "            for p in self.particles:\n",
        "                norm = (p.x**2 + p.y**2)**0.5\n",
        "                v_x = (-p.y) / norm\n",
        "                v_y = p.x / norm\n",
        "                d_x = timestep * p.velocidad_angular * v_x\n",
        "                d_y = timestep * p.velocidad_angular * v_y\n",
        "                p.x += d_x\n",
        "                p.y += d_y\n",
        "\n",
        "    def evolve_numpy(self, dt):\n",
        "        timestep = 0.00001\n",
        "        nsteps = int(dt / timestep)\n",
        "        r_i = np.array([[p.x, p.y] for p in self.particles])\n",
        "        velocidad_angular_i = np.array([p.velocidad_angular for p in self.particles])\n",
        "        for i in range(nsteps):\n",
        "            norm_i = np.sqrt((r_i ** 2).sum(axis=1))\n",
        "            v_i = r_i[:, [1, 0]] * np.array([-1, 1]) / norm_i[:, np.newaxis]\n",
        "            d_i = timestep * velocidad_angular_i[:, np.newaxis] * v_i\n",
        "            r_i += d_i\n",
        "        for i, p in enumerate(self.particles):\n",
        "            p.x, p.y = r_i[i]\n",
        "\n",
        "\n",
        "def benchmark(npart=1000, method='python'):\n",
        "    particles = [Particle(uniform(-1.0, 1.0), uniform(-1.0, 1.0), uniform(-1.0, 1.0)) for _ in range(npart)]\n",
        "    simulator = ParticleSimulator(particles)\n",
        "    if method == 'python':\n",
        "        simulator.evolve_python(0.1)\n",
        "    elif method == 'numpy':\n",
        "        simulator.evolve_numpy(0.1)"
      ]
    },
    {
      "cell_type": "code",
      "source": [
        "if __name__ == \"__main__\":\n",
        "    # Example with 1000 particles\n",
        "    %timeit benchmark(npart=1_000, method='python')\n",
        "    %timeit benchmark(npart=1_000, method='numpy')\n",
        "\n",
        "\n",
        "    # Example with 10000 particles\n",
        "    %timeit benchmark(npart=10_000, method='python')\n",
        "    %timeit benchmark(npart=10_000, method='numpy')"
      ],
      "metadata": {
        "colab": {
          "base_uri": "https://localhost:8080/"
        },
        "id": "r6YQRLKCreMW",
        "outputId": "79f37b63-cece-4d99-9d4e-bf90dc97832b"
      },
      "execution_count": 2,
      "outputs": [
        {
          "output_type": "stream",
          "name": "stdout",
          "text": [
            "9.09 s ± 1.03 s per loop (mean ± std. dev. of 7 runs, 1 loop each)\n",
            "575 ms ± 51.6 ms per loop (mean ± std. dev. of 7 runs, 1 loop each)\n",
            "1min 30s ± 1.93 s per loop (mean ± std. dev. of 7 runs, 1 loop each)\n",
            "3.84 s ± 310 ms per loop (mean ± std. dev. of 7 runs, 1 loop each)\n"
          ]
        }
      ]
    },
    {
      "cell_type": "code",
      "source": [
        "dt1 = np.arange(1e6)\n",
        "dt2 = np.arange(1e6)\n",
        "\n",
        "%timeit 2*dt1 + 3*dt2\n",
        "%timeit ne.evaluate(\"2*dt1 + 3*dt2\")"
      ],
      "metadata": {
        "colab": {
          "base_uri": "https://localhost:8080/"
        },
        "id": "JpCCDX6ZrhXs",
        "outputId": "a6c83036-c4d4-4667-e08b-2325cc2074d8"
      },
      "execution_count": 3,
      "outputs": [
        {
          "output_type": "stream",
          "name": "stdout",
          "text": [
            "6.38 ms ± 115 µs per loop (mean ± std. dev. of 7 runs, 100 loops each)\n",
            "3.4 ms ± 83.3 µs per loop (mean ± std. dev. of 7 runs, 100 loops each)\n"
          ]
        }
      ]
    },
    {
      "cell_type": "code",
      "source": [
        "import numpy as np\n",
        "import numexpr as ne\n",
        "from timeit import timeit\n",
        "\n",
        "# Define the arrays with a million elements each\n",
        "dt1 = np.arange(1e6)\n",
        "dt2 = np.arange(1e6)\n",
        "\n",
        "# Define the operations to be performed\n",
        "def pure_python():\n",
        "    return [2*x + 3*y for x, y in zip(dt1, dt2)]\n",
        "\n",
        "def numpy_array():\n",
        "    return 2*dt1 + 3*dt2\n",
        "\n",
        "def numexpr_expr():\n",
        "    return ne.evaluate(\"2*dt1 + 3*dt2\")\n",
        "\n",
        "# Benchmark the execution time for each approach\n",
        "n_trials = 1000  # Number of trials for timeit\n",
        "time_python = timeit(pure_python, number=n_trials)\n",
        "time_numpy = timeit(numpy_array, number=n_trials)\n",
        "time_numexpr = timeit(numexpr_expr, number=n_trials)\n",
        "\n",
        "# Display the results\n",
        "print(f\"Pure Python execution time: {time_python} seconds\")\n",
        "print(f\"NumPy execution time: {time_numpy} seconds\")\n",
        "print(f\"NumExpr execution time: {time_numexpr} seconds\")\n"
      ],
      "metadata": {
        "colab": {
          "base_uri": "https://localhost:8080/"
        },
        "id": "ODP0IpwyucLM",
        "outputId": "cf8cd0a2-2bb9-442b-8045-9765ebc03e1d"
      },
      "execution_count": 5,
      "outputs": [
        {
          "output_type": "stream",
          "name": "stdout",
          "text": [
            "Pure Python execution time: 432.1467014309999 seconds\n",
            "NumPy execution time: 2.765671139999995 seconds\n",
            "NumExpr execution time: 3.3016093899998396 seconds\n"
          ]
        }
      ]
    }
  ]
}